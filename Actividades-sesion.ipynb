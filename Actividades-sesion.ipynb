{
 "cells": [
  {
   "cell_type": "code",
   "execution_count": 2,
   "metadata": {},
   "outputs": [],
   "source": [
    "import matplotlib.pyplot as plt\n",
    "import pandas as pd\n",
    "import seaborn as sns\n",
    "import numpy as np\n",
    "from openpyxl import Workbook\n",
    "import xlsxwriter\n",
    "import string\n",
    "import re as re\n",
    "from datetime import datetime as dt"
   ]
  },
  {
   "attachments": {},
   "cell_type": "markdown",
   "metadata": {},
   "source": [
    "## Programación"
   ]
  },
  {
   "cell_type": "code",
   "execution_count": 3,
   "metadata": {},
   "outputs": [
    {
     "name": "stdout",
     "output_type": "stream",
     "text": [
      "<class 'pandas.core.frame.DataFrame'>\n",
      "RangeIndex: 1706 entries, 0 to 1705\n",
      "Data columns (total 53 columns):\n",
      " #   Column                                          Non-Null Count  Dtype         \n",
      "---  ------                                          --------------  -----         \n",
      " 0   MES                                             1406 non-null   object        \n",
      " 1   FECHA (lista desplegable)                       1406 non-null   datetime64[ns]\n",
      " 2   DÍA                                             1406 non-null   object        \n",
      " 3   HORARIO (lista desplegable)                     1406 non-null   object        \n",
      " 4   JORNADA                                         1706 non-null   object        \n",
      " 5   TIPO DE HORARIO                                 1706 non-null   object        \n",
      " 6   DURACIÓN DE LA SESIÓN                           1406 non-null   object        \n",
      " 7   LUGAR DE PRESTACIÓN                             1406 non-null   object        \n",
      " 8   BOGOTÁ/REGIÓN                                   1406 non-null   object        \n",
      " 9   JURISDICCIÓN                                    1406 non-null   object        \n",
      " 10  SALA                                            131 non-null    object        \n",
      " 11  NOMBRE DEL SERVICIO (lista desplegable)         1406 non-null   object        \n",
      " 12  CÓDIGO SERVICIO                                 1406 non-null   object        \n",
      " 13  NO. DE SESIONES                                 1406 non-null   object        \n",
      " 14  ESTADO SERVICIO PORTAFOLIO                      1406 non-null   object        \n",
      " 15  Código de agenda                                1243 non-null   object        \n",
      " 16  Estado de la agenda                             87 non-null     object        \n",
      " 17  WEBINAR/REUNION ZOOM (lista desplegable)        1406 non-null   object        \n",
      " 18  LICENCIAS EN USO\n",
      "lista desplegable              354 non-null    object        \n",
      " 19  ENLACE DE CONEXIÓN                              419 non-null    object        \n",
      " 20  NOMBRE DE LA AGENDA (Evento masivo)             895 non-null    object        \n",
      " 21  ABIERTA/CERRADA (lista desplegable)             1399 non-null   object        \n",
      " 22  CONTRATO DE TRANSFERENCIA (TEXTO AJUSTADO)      1399 non-null   object        \n",
      " 23  EXTERNO / INTERNO / ALIADO                      1406 non-null   object        \n",
      " 24  CONFERENCISTA ACTUAL (lista desplegable)        1406 non-null   object        \n",
      " 25  WEBINARS PANELISTAS                             746 non-null    object        \n",
      " 26  GRABACIÓN Y PUBLICACIÓN                         15 non-null     object        \n",
      " 27  CORREO CONFERENCISTA WEBINAR                    74 non-null     object        \n",
      " 28  NOMBRE DEL CICLO                                386 non-null    object        \n",
      " 29  # DE CICLO                                      121 non-null    object        \n",
      " 30  OBSERVACIONES DEL SERVICIO                      146 non-null    object        \n",
      " 31  PROGRAMA (lista desplegable)                    1406 non-null   object        \n",
      " 32  SECTOR                                          1405 non-null   object        \n",
      " 33  COLABORADOR GSOE QUE MODIFICA                   451 non-null    object        \n",
      " 34  LLEGADA TARDE DEL CONSULTOR INTERNO / EXTERNO   6 non-null      object        \n",
      " 35  # VECES REPROGRAMADAS                           40 non-null     object        \n",
      " 36  FECHA DE SOLICITUD DE REPROGRAMACIÓN            62 non-null     object        \n",
      " 37  MOTIVO DE REPROGRAMACIÓN o CANCELACION          82 non-null     object        \n",
      " 38  TOTAL INSCRITOS POR PÁGINA WEB                  871 non-null    float64       \n",
      " 39  ASISTENTES POR PÁGINA WEB                       339 non-null    float64       \n",
      " 40  Cargue VFE                                      694 non-null    float64       \n",
      " 41  ASISTENTES                                      1706 non-null   int64         \n",
      " 42  TRIMESTRE                                       1706 non-null   int64         \n",
      " 43  CATEGORÍA                                       1406 non-null   object        \n",
      " 44  MECANISMO DE PRESTACIÓN                         1406 non-null   object        \n",
      " 45  MODALIDAD DE PRESTACIÓN                         1406 non-null   object        \n",
      " 46  LINEA DE ACCIÓN A LA QUE PERTENECE EL SERVICIO  1406 non-null   object        \n",
      " 47  ÁREA TEMÁTICA                                   1406 non-null   object        \n",
      " 48  DURACIÓN SESIÓN                                 1406 non-null   object        \n",
      " 49  DURACIÓNACTIVIDAD                               1406 non-null   object        \n",
      " 50  NO. DE SESIONES2                                1406 non-null   object        \n",
      " 51  Sesión CRM                                      1406 non-null   object        \n",
      " 52  Semana del año                                  1706 non-null   int64         \n",
      "dtypes: datetime64[ns](1), float64(3), int64(3), object(46)\n",
      "memory usage: 706.5+ KB\n"
     ]
    },
    {
     "name": "stderr",
     "output_type": "stream",
     "text": [
      "c:\\Users\\1032452285\\AppData\\Local\\Programs\\Python\\Python310\\lib\\site-packages\\openpyxl\\worksheet\\_reader.py:312: UserWarning: Data Validation extension is not supported and will be removed\n",
      "  warn(msg)\n"
     ]
    }
   ],
   "source": [
    "#Programación VFE - primer semestre\n",
    "primersemestre = pd.read_excel('C:/Users/1032452285/OneDrive - Camara de Comercio de Bogota/Programación/PROGRAMACIÓN VFE I SEMESTRE 2023.xlsx', sheet_name='PROGRAMACIÓN',header=1, skiprows=[0,1])\n",
    "primersemestre.info()"
   ]
  },
  {
   "cell_type": "code",
   "execution_count": 4,
   "metadata": {},
   "outputs": [],
   "source": [
    "#Si solo hay primer semestre\n",
    "consolidado=primersemestre"
   ]
  },
  {
   "cell_type": "code",
   "execution_count": 5,
   "metadata": {},
   "outputs": [],
   "source": [
    "consolidado=consolidado.rename(columns = {\"CÓDIGO SERVICIO\": \"cod_servicio\",\n",
    "                                  \"Código de agenda\": \"cod_agenda\",\n",
    "                                  \"NOMBRE DE LA AGENDA (Evento masivo)\": \"nombre_agenda\",\n",
    "                                  \"NOMBRE DEL SERVICIO (lista desplegable)\":\"nombre_servicio\",\n",
    "                                  \"CONFERENCISTA ACTUAL (lista desplegable)\":\"nombre_facilitador\",\n",
    "                                  \"PROGRAMA (lista desplegable)\":\"programa\",\n",
    "                                  \"WEBINAR/REUNION ZOOM (lista desplegable)\":\"es_grabacion\",\n",
    "                                  \"ÁREA TEMÁTICA\":\"area_tematica\"})"
   ]
  },
  {
   "cell_type": "code",
   "execution_count": 6,
   "metadata": {},
   "outputs": [
    {
     "name": "stdout",
     "output_type": "stream",
     "text": [
      "<class 'pandas.core.frame.DataFrame'>\n",
      "Int64Index: 1243 entries, 0 to 1406\n",
      "Data columns (total 53 columns):\n",
      " #   Column                                          Non-Null Count  Dtype         \n",
      "---  ------                                          --------------  -----         \n",
      " 0   MES                                             1243 non-null   object        \n",
      " 1   FECHA (lista desplegable)                       1243 non-null   datetime64[ns]\n",
      " 2   DÍA                                             1243 non-null   object        \n",
      " 3   HORARIO (lista desplegable)                     1243 non-null   object        \n",
      " 4   JORNADA                                         1243 non-null   object        \n",
      " 5   TIPO DE HORARIO                                 1243 non-null   object        \n",
      " 6   DURACIÓN DE LA SESIÓN                           1243 non-null   object        \n",
      " 7   LUGAR DE PRESTACIÓN                             1243 non-null   object        \n",
      " 8   BOGOTÁ/REGIÓN                                   1243 non-null   object        \n",
      " 9   JURISDICCIÓN                                    1243 non-null   object        \n",
      " 10  SALA                                            129 non-null    object        \n",
      " 11  nombre_servicio                                 1243 non-null   object        \n",
      " 12  cod_servicio                                    1243 non-null   object        \n",
      " 13  NO. DE SESIONES                                 1243 non-null   object        \n",
      " 14  ESTADO SERVICIO PORTAFOLIO                      1243 non-null   object        \n",
      " 15  cod_agenda                                      1243 non-null   object        \n",
      " 16  Estado de la agenda                             87 non-null     object        \n",
      " 17  WEBINAR/REUNION ZOOM (lista desplegable)        1243 non-null   object        \n",
      " 18  LICENCIAS EN USO\n",
      "lista desplegable              353 non-null    object        \n",
      " 19  ENLACE DE CONEXIÓN                              415 non-null    object        \n",
      " 20  nombre_agenda                                   763 non-null    object        \n",
      " 21  ABIERTA/CERRADA (lista desplegable)             1243 non-null   object        \n",
      " 22  CONTRATO DE TRANSFERENCIA (TEXTO AJUSTADO)      1243 non-null   object        \n",
      " 23  EXTERNO / INTERNO / ALIADO                      1243 non-null   object        \n",
      " 24  nombre_facilitador                              1243 non-null   object        \n",
      " 25  WEBINARS PANELISTAS                             617 non-null    object        \n",
      " 26  GRABACIÓN Y PUBLICACIÓN                         12 non-null     object        \n",
      " 27  CORREO CONFERENCISTA WEBINAR                    74 non-null     object        \n",
      " 28  NOMBRE DEL CICLO                                342 non-null    object        \n",
      " 29  # DE CICLO                                      114 non-null    object        \n",
      " 30  OBSERVACIONES DEL SERVICIO                      128 non-null    object        \n",
      " 31  programa                                        1243 non-null   object        \n",
      " 32  SECTOR                                          1242 non-null   object        \n",
      " 33  COLABORADOR GSOE QUE MODIFICA                   451 non-null    object        \n",
      " 34  LLEGADA TARDE DEL CONSULTOR INTERNO / EXTERNO   6 non-null      object        \n",
      " 35  # VECES REPROGRAMADAS                           40 non-null     object        \n",
      " 36  FECHA DE SOLICITUD DE REPROGRAMACIÓN            62 non-null     object        \n",
      " 37  MOTIVO DE REPROGRAMACIÓN o CANCELACION          82 non-null     object        \n",
      " 38  TOTAL INSCRITOS POR PÁGINA WEB                  871 non-null    float64       \n",
      " 39  ASISTENTES POR PÁGINA WEB                       339 non-null    float64       \n",
      " 40  Cargue VFE                                      694 non-null    float64       \n",
      " 41  ASISTENTES                                      1243 non-null   int64         \n",
      " 42  TRIMESTRE                                       1243 non-null   int64         \n",
      " 43  CATEGORÍA                                       1243 non-null   object        \n",
      " 44  MECANISMO DE PRESTACIÓN                         1243 non-null   object        \n",
      " 45  MODALIDAD DE PRESTACIÓN                         1243 non-null   object        \n",
      " 46  LINEA DE ACCIÓN A LA QUE PERTENECE EL SERVICIO  1243 non-null   object        \n",
      " 47  area_tematica                                   1243 non-null   object        \n",
      " 48  DURACIÓN SESIÓN                                 1243 non-null   object        \n",
      " 49  DURACIÓNACTIVIDAD                               1243 non-null   object        \n",
      " 50  NO. DE SESIONES2                                1243 non-null   object        \n",
      " 51  Sesión CRM                                      1243 non-null   object        \n",
      " 52  Semana del año                                  1243 non-null   int64         \n",
      "dtypes: datetime64[ns](1), float64(3), int64(3), object(46)\n",
      "memory usage: 524.4+ KB\n"
     ]
    }
   ],
   "source": [
    "#Quitar espacios sin número de agenda\n",
    "consolidado=consolidado[consolidado['cod_agenda'].notna()]\n",
    "consolidado.info()"
   ]
  },
  {
   "cell_type": "code",
   "execution_count": 7,
   "metadata": {},
   "outputs": [
    {
     "name": "stdout",
     "output_type": "stream",
     "text": [
      "<class 'pandas.core.frame.DataFrame'>\n",
      "Int64Index: 1190 entries, 0 to 1406\n",
      "Data columns (total 53 columns):\n",
      " #   Column                                          Non-Null Count  Dtype         \n",
      "---  ------                                          --------------  -----         \n",
      " 0   MES                                             1190 non-null   object        \n",
      " 1   FECHA (lista desplegable)                       1190 non-null   datetime64[ns]\n",
      " 2   DÍA                                             1190 non-null   object        \n",
      " 3   HORARIO (lista desplegable)                     1190 non-null   object        \n",
      " 4   JORNADA                                         1190 non-null   object        \n",
      " 5   TIPO DE HORARIO                                 1190 non-null   object        \n",
      " 6   DURACIÓN DE LA SESIÓN                           1190 non-null   object        \n",
      " 7   LUGAR DE PRESTACIÓN                             1190 non-null   object        \n",
      " 8   BOGOTÁ/REGIÓN                                   1190 non-null   object        \n",
      " 9   JURISDICCIÓN                                    1190 non-null   object        \n",
      " 10  SALA                                            124 non-null    object        \n",
      " 11  nombre_servicio                                 1190 non-null   object        \n",
      " 12  cod_servicio                                    1190 non-null   object        \n",
      " 13  NO. DE SESIONES                                 1190 non-null   object        \n",
      " 14  ESTADO SERVICIO PORTAFOLIO                      1190 non-null   object        \n",
      " 15  cod_agenda                                      1190 non-null   object        \n",
      " 16  Estado de la agenda                             81 non-null     object        \n",
      " 17  WEBINAR/REUNION ZOOM (lista desplegable)        1190 non-null   object        \n",
      " 18  LICENCIAS EN USO\n",
      "lista desplegable              324 non-null    object        \n",
      " 19  ENLACE DE CONEXIÓN                              386 non-null    object        \n",
      " 20  nombre_agenda                                   723 non-null    object        \n",
      " 21  ABIERTA/CERRADA (lista desplegable)             1190 non-null   object        \n",
      " 22  CONTRATO DE TRANSFERENCIA (TEXTO AJUSTADO)      1190 non-null   object        \n",
      " 23  EXTERNO / INTERNO / ALIADO                      1190 non-null   object        \n",
      " 24  nombre_facilitador                              1190 non-null   object        \n",
      " 25  WEBINARS PANELISTAS                             568 non-null    object        \n",
      " 26  GRABACIÓN Y PUBLICACIÓN                         11 non-null     object        \n",
      " 27  CORREO CONFERENCISTA WEBINAR                    60 non-null     object        \n",
      " 28  NOMBRE DEL CICLO                                296 non-null    object        \n",
      " 29  # DE CICLO                                      79 non-null     object        \n",
      " 30  OBSERVACIONES DEL SERVICIO                      120 non-null    object        \n",
      " 31  programa                                        1190 non-null   object        \n",
      " 32  SECTOR                                          1189 non-null   object        \n",
      " 33  COLABORADOR GSOE QUE MODIFICA                   417 non-null    object        \n",
      " 34  LLEGADA TARDE DEL CONSULTOR INTERNO / EXTERNO   5 non-null      object        \n",
      " 35  # VECES REPROGRAMADAS                           38 non-null     object        \n",
      " 36  FECHA DE SOLICITUD DE REPROGRAMACIÓN            60 non-null     object        \n",
      " 37  MOTIVO DE REPROGRAMACIÓN o CANCELACION          75 non-null     object        \n",
      " 38  TOTAL INSCRITOS POR PÁGINA WEB                  854 non-null    float64       \n",
      " 39  ASISTENTES POR PÁGINA WEB                       322 non-null    float64       \n",
      " 40  Cargue VFE                                      693 non-null    float64       \n",
      " 41  ASISTENTES                                      1190 non-null   int64         \n",
      " 42  TRIMESTRE                                       1190 non-null   int64         \n",
      " 43  CATEGORÍA                                       1190 non-null   object        \n",
      " 44  MECANISMO DE PRESTACIÓN                         1190 non-null   object        \n",
      " 45  MODALIDAD DE PRESTACIÓN                         1190 non-null   object        \n",
      " 46  LINEA DE ACCIÓN A LA QUE PERTENECE EL SERVICIO  1190 non-null   object        \n",
      " 47  area_tematica                                   1190 non-null   object        \n",
      " 48  DURACIÓN SESIÓN                                 1190 non-null   object        \n",
      " 49  DURACIÓNACTIVIDAD                               1190 non-null   object        \n",
      " 50  NO. DE SESIONES2                                1190 non-null   object        \n",
      " 51  Sesión CRM                                      1190 non-null   object        \n",
      " 52  Semana del año                                  1190 non-null   int64         \n",
      "dtypes: datetime64[ns](1), float64(3), int64(3), object(46)\n",
      "memory usage: 502.0+ KB\n"
     ]
    }
   ],
   "source": [
    "#Quitar duplicados\n",
    "consolidado=consolidado.drop_duplicates(subset=['cod_agenda'], keep='last')\n",
    "consolidado.info()"
   ]
  },
  {
   "attachments": {},
   "cell_type": "markdown",
   "metadata": {},
   "source": [
    "# Asistencias (Actividad-sesion)"
   ]
  },
  {
   "cell_type": "code",
   "execution_count": 8,
   "metadata": {},
   "outputs": [
    {
     "name": "stdout",
     "output_type": "stream",
     "text": [
      "<class 'pandas.core.frame.DataFrame'>\n",
      "RangeIndex: 46850 entries, 0 to 46849\n",
      "Data columns (total 40 columns):\n",
      " #   Column                               Non-Null Count  Dtype         \n",
      "---  ------                               --------------  -----         \n",
      " 0   nombre_usuario                       31136 non-null  object        \n",
      " 1   numero_documento                     46850 non-null  object        \n",
      " 2   telefono                             25089 non-null  object        \n",
      " 3   celular                              26790 non-null  object        \n",
      " 4   correo_electronico                   30631 non-null  object        \n",
      " 5   nombre_municipio                     31055 non-null  object        \n",
      " 6   razon_social                         31136 non-null  object        \n",
      " 7   nit_empresa                          13340 non-null  float64       \n",
      " 8   codigo_actividad                     46850 non-null  object        \n",
      " 9   nombre_actividad                     46850 non-null  object        \n",
      " 10  tipo_actividad                       46850 non-null  object        \n",
      " 11  eje_tematico                         45264 non-null  object        \n",
      " 12  codigo_agenda                        46850 non-null  object        \n",
      " 13  nombre_agenda                        46850 non-null  object        \n",
      " 14  estado_agenda                        46850 non-null  object        \n",
      " 15  fecha_inicio_actividad               46850 non-null  object        \n",
      " 16  fecha_fin_actividad                  46850 non-null  object        \n",
      " 17  hora_inicio_actividad                46850 non-null  object        \n",
      " 18  hora_fin_actividad                   46850 non-null  object        \n",
      " 19  fecha_inicio_agenda                  46850 non-null  object        \n",
      " 20  fecha_fin_agenda                     46850 non-null  object        \n",
      " 21  hora_inicio_agenda                   46850 non-null  object        \n",
      " 22  hora_fin_agenda                      46850 non-null  object        \n",
      " 23  sede                                 46850 non-null  object        \n",
      " 24  prestadoEnRegion                     46850 non-null  object        \n",
      " 25  session                              46850 non-null  object        \n",
      " 26  numero_sesiones                      46850 non-null  int64         \n",
      " 27  nombre_facilitador                   46267 non-null  object        \n",
      " 28  total_asistentes_por_session         46850 non-null  int64         \n",
      " 29  control_asistencia                   46850 non-null  object        \n",
      " 30  porcentaje_asistencia                46850 non-null  float64       \n",
      " 31  macrosector_actividad                46806 non-null  object        \n",
      " 32  usuario_que_programa_la_actividad    46850 non-null  object        \n",
      " 33  linea_trabajo_nombre                 46850 non-null  object        \n",
      " 34  linea_accion_nombre                  46850 non-null  object        \n",
      " 35  Fecha de inicio actividad arreglada  46850 non-null  datetime64[ns]\n",
      " 36  Fecha de fin actividad arreglada     46850 non-null  datetime64[ns]\n",
      " 37  Fecha de inicio agenda arreglada     46850 non-null  datetime64[ns]\n",
      " 38  Fecha de fin agenda arreglada        46850 non-null  datetime64[ns]\n",
      " 39  sesion                               46850 non-null  int64         \n",
      "dtypes: datetime64[ns](4), float64(2), int64(3), object(31)\n",
      "memory usage: 14.3+ MB\n"
     ]
    }
   ],
   "source": [
    "#Base de asistencias\n",
    "asistencias = pd.read_excel('C:/Users/1032452285/OneDrive - Camara de Comercio de Bogota/Documentos - Gestión Analítica VFE/Mensuales/5. Cierre de cifras/1. Archivos de soporte/Reporte Asistencias.xlsx')\n",
    "asistencias.info()"
   ]
  },
  {
   "cell_type": "code",
   "execution_count": 9,
   "metadata": {},
   "outputs": [
    {
     "name": "stdout",
     "output_type": "stream",
     "text": [
      "<class 'pandas.core.frame.DataFrame'>\n",
      "RangeIndex: 46850 entries, 0 to 46849\n",
      "Data columns (total 42 columns):\n",
      " #   Column                               Non-Null Count  Dtype         \n",
      "---  ------                               --------------  -----         \n",
      " 0   nombre_usuario                       31136 non-null  object        \n",
      " 1   numero_documento                     46850 non-null  object        \n",
      " 2   telefono                             25089 non-null  object        \n",
      " 3   celular                              26790 non-null  object        \n",
      " 4   correo_electronico                   30631 non-null  object        \n",
      " 5   nombre_municipio                     31055 non-null  object        \n",
      " 6   razon_social                         31136 non-null  object        \n",
      " 7   nit_empresa                          13340 non-null  float64       \n",
      " 8   codigo_actividad                     46850 non-null  object        \n",
      " 9   nombre_actividad                     46850 non-null  object        \n",
      " 10  tipo_actividad                       46850 non-null  object        \n",
      " 11  eje_tematico                         45264 non-null  object        \n",
      " 12  codigo_agenda                        46850 non-null  object        \n",
      " 13  nombre_agenda                        46850 non-null  object        \n",
      " 14  estado_agenda                        46850 non-null  object        \n",
      " 15  fecha_inicio_actividad               46850 non-null  object        \n",
      " 16  fecha_fin_actividad                  46850 non-null  object        \n",
      " 17  hora_inicio_actividad                46850 non-null  object        \n",
      " 18  hora_fin_actividad                   46850 non-null  object        \n",
      " 19  fecha_inicio_agenda                  46850 non-null  object        \n",
      " 20  fecha_fin_agenda                     46850 non-null  object        \n",
      " 21  hora_inicio_agenda                   46850 non-null  object        \n",
      " 22  hora_fin_agenda                      46850 non-null  object        \n",
      " 23  sede                                 46850 non-null  object        \n",
      " 24  prestadoEnRegion                     46850 non-null  object        \n",
      " 25  session                              46850 non-null  object        \n",
      " 26  numero_sesiones                      46850 non-null  int64         \n",
      " 27  nombre_facilitador                   46267 non-null  object        \n",
      " 28  total_asistentes_por_session         46850 non-null  int64         \n",
      " 29  control_asistencia                   46850 non-null  object        \n",
      " 30  porcentaje_asistencia                46850 non-null  float64       \n",
      " 31  macrosector_actividad                46806 non-null  object        \n",
      " 32  usuario_que_programa_la_actividad    46850 non-null  object        \n",
      " 33  linea_trabajo_nombre                 46850 non-null  object        \n",
      " 34  linea_accion_nombre                  46850 non-null  object        \n",
      " 35  Fecha de inicio actividad arreglada  46850 non-null  datetime64[ns]\n",
      " 36  Fecha de fin actividad arreglada     46850 non-null  datetime64[ns]\n",
      " 37  Fecha de inicio agenda arreglada     46850 non-null  datetime64[ns]\n",
      " 38  Fecha de fin agenda arreglada        46850 non-null  datetime64[ns]\n",
      " 39  sesion                               46850 non-null  int64         \n",
      " 40  fechaFin                             46850 non-null  datetime64[ns]\n",
      " 41  fechaInicio                          46850 non-null  datetime64[ns]\n",
      "dtypes: datetime64[ns](6), float64(2), int64(3), object(31)\n",
      "memory usage: 15.0+ MB\n"
     ]
    }
   ],
   "source": [
    "asistencias[['fechaFin','fechaInicio']]=asistencias[['fecha_fin_actividad','fecha_inicio_actividad']].apply(pd.to_datetime,format='%Y-%m-%d')\n",
    "asistencias.info()"
   ]
  },
  {
   "cell_type": "code",
   "execution_count": 10,
   "metadata": {},
   "outputs": [],
   "source": [
    "#Solo nos quedamos con 2023 ###CAMBIA MENSUAL\n",
    "asistencias=asistencias[(asistencias['fechaInicio'].dt.year ==2023)]\n",
    "asistencias=asistencias[(asistencias['fechaInicio'].dt.month<=3)]"
   ]
  },
  {
   "cell_type": "code",
   "execution_count": 11,
   "metadata": {},
   "outputs": [],
   "source": [
    "#Eliminar si no es VFE \n",
    "asistenciasVFE=asistencias.loc[asistencias['linea_accion_nombre']==\"VICEPRESIDENCIA DE FORTALECIMIENTO EMPRESARIAL\"]"
   ]
  },
  {
   "cell_type": "code",
   "execution_count": 12,
   "metadata": {},
   "outputs": [],
   "source": [
    "#Eliminar si Gerencia\n",
    "programasexcluidos = ['GERENCIA DE FORMACION EMPRESARIAL']\n",
    "asistenciasVFE=asistenciasVFE.loc[~asistenciasVFE['linea_trabajo_nombre'].isin(programasexcluidos)]"
   ]
  },
  {
   "cell_type": "code",
   "execution_count": 13,
   "metadata": {},
   "outputs": [],
   "source": [
    "#Eliminar formalización\n",
    "formalizacion=['CRM-00002','CRM-00004']\n",
    "asistenciasVFE=asistenciasVFE.loc[~asistenciasVFE['codigo_actividad'].isin(formalizacion)]"
   ]
  },
  {
   "cell_type": "code",
   "execution_count": 14,
   "metadata": {},
   "outputs": [],
   "source": [
    "#Quitar asesorías individuales\n",
    "asesorias=[['Asesoría Individual']]\n",
    "asistenciasVFE=asistenciasVFE.loc[~asistenciasVFE['tipo_actividad'].isin(asesorias)]"
   ]
  },
  {
   "cell_type": "code",
   "execution_count": 15,
   "metadata": {},
   "outputs": [],
   "source": [
    "#Quitar duplicados\n",
    "asistenciasVFE=asistenciasVFE.drop_duplicates(subset=['codigo_agenda','numero_documento','sesion'], keep='last')"
   ]
  },
  {
   "cell_type": "code",
   "execution_count": 16,
   "metadata": {},
   "outputs": [
    {
     "data": {
      "text/plain": [
       "SOLUCIONES EMPRESARIALES                    25916\n",
       "EMPRENDIMIENTO                               5626\n",
       "CONSOLIDACIÓN Y ESCALAMIENTO EMPRESARIAL     3910\n",
       "FORMALIZACIÓN Y CRECIMIENTO EMPRESARIAL      3687\n",
       "FORO DE PRESIDENTES Y MENTORÍAS              2579\n",
       "INNOVACION                                   1934\n",
       "GERENCIA DE ARTICULACION MACROSECTORIAL         6\n",
       "Name: linea_trabajo_nombre, dtype: int64"
      ]
     },
     "execution_count": 16,
     "metadata": {},
     "output_type": "execute_result"
    }
   ],
   "source": [
    "asistenciasVFE['linea_trabajo_nombre'].value_counts()"
   ]
  },
  {
   "cell_type": "code",
   "execution_count": 17,
   "metadata": {},
   "outputs": [
    {
     "data": {
      "text/plain": [
       "Asistio    43658\n",
       "Name: control_asistencia, dtype: int64"
      ]
     },
     "execution_count": 17,
     "metadata": {},
     "output_type": "execute_result"
    }
   ],
   "source": [
    "asistenciasVFE['control_asistencia'].value_counts()"
   ]
  },
  {
   "cell_type": "code",
   "execution_count": 18,
   "metadata": {},
   "outputs": [],
   "source": [
    "asistenciasVFE['control_asistencia'] = [\"1\" if s ==\"Asistio\" else \"0\" for s in asistenciasVFE['control_asistencia']]"
   ]
  },
  {
   "attachments": {},
   "cell_type": "markdown",
   "metadata": {},
   "source": [
    "# Cruce con programación"
   ]
  },
  {
   "cell_type": "code",
   "execution_count": 19,
   "metadata": {},
   "outputs": [],
   "source": [
    "asistenciasVFEpr = asistenciasVFE.merge(consolidado, left_on='codigo_agenda', right_on='cod_agenda', how='outer', indicator = True)"
   ]
  },
  {
   "cell_type": "code",
   "execution_count": 20,
   "metadata": {},
   "outputs": [
    {
     "name": "stdout",
     "output_type": "stream",
     "text": [
      "<class 'pandas.core.frame.DataFrame'>\n",
      "Int64Index: 43658 entries, 0 to 43657\n",
      "Data columns (total 96 columns):\n",
      " #   Column                                          Non-Null Count  Dtype         \n",
      "---  ------                                          --------------  -----         \n",
      " 0   nombre_usuario                                  27953 non-null  object        \n",
      " 1   numero_documento                                43658 non-null  object        \n",
      " 2   telefono                                        22864 non-null  object        \n",
      " 3   celular                                         23728 non-null  object        \n",
      " 4   correo_electronico                              27449 non-null  object        \n",
      " 5   nombre_municipio                                27882 non-null  object        \n",
      " 6   razon_social                                    27953 non-null  object        \n",
      " 7   nit_empresa                                     11340 non-null  float64       \n",
      " 8   codigo_actividad                                43658 non-null  object        \n",
      " 9   nombre_actividad                                43658 non-null  object        \n",
      " 10  tipo_actividad                                  43658 non-null  object        \n",
      " 11  eje_tematico                                    42165 non-null  object        \n",
      " 12  codigo_agenda                                   43658 non-null  object        \n",
      " 13  nombre_agenda_x                                 43658 non-null  object        \n",
      " 14  estado_agenda                                   43658 non-null  object        \n",
      " 15  fecha_inicio_actividad                          43658 non-null  object        \n",
      " 16  fecha_fin_actividad                             43658 non-null  object        \n",
      " 17  hora_inicio_actividad                           43658 non-null  object        \n",
      " 18  hora_fin_actividad                              43658 non-null  object        \n",
      " 19  fecha_inicio_agenda                             43658 non-null  object        \n",
      " 20  fecha_fin_agenda                                43658 non-null  object        \n",
      " 21  hora_inicio_agenda                              43658 non-null  object        \n",
      " 22  hora_fin_agenda                                 43658 non-null  object        \n",
      " 23  sede                                            43658 non-null  object        \n",
      " 24  prestadoEnRegion                                43658 non-null  object        \n",
      " 25  session                                         43658 non-null  object        \n",
      " 26  numero_sesiones                                 43658 non-null  float64       \n",
      " 27  nombre_facilitador_x                            43133 non-null  object        \n",
      " 28  total_asistentes_por_session                    43658 non-null  float64       \n",
      " 29  control_asistencia                              43658 non-null  object        \n",
      " 30  porcentaje_asistencia                           43658 non-null  float64       \n",
      " 31  macrosector_actividad                           43614 non-null  object        \n",
      " 32  usuario_que_programa_la_actividad               43658 non-null  object        \n",
      " 33  linea_trabajo_nombre                            43658 non-null  object        \n",
      " 34  linea_accion_nombre                             43658 non-null  object        \n",
      " 35  Fecha de inicio actividad arreglada             43658 non-null  datetime64[ns]\n",
      " 36  Fecha de fin actividad arreglada                43658 non-null  datetime64[ns]\n",
      " 37  Fecha de inicio agenda arreglada                43658 non-null  datetime64[ns]\n",
      " 38  Fecha de fin agenda arreglada                   43658 non-null  datetime64[ns]\n",
      " 39  sesion                                          43658 non-null  float64       \n",
      " 40  fechaFin                                        43658 non-null  datetime64[ns]\n",
      " 41  fechaInicio                                     43658 non-null  datetime64[ns]\n",
      " 42  MES                                             43610 non-null  object        \n",
      " 43  FECHA (lista desplegable)                       43610 non-null  datetime64[ns]\n",
      " 44  DÍA                                             43610 non-null  object        \n",
      " 45  HORARIO (lista desplegable)                     43610 non-null  object        \n",
      " 46  JORNADA                                         43610 non-null  object        \n",
      " 47  TIPO DE HORARIO                                 43610 non-null  object        \n",
      " 48  DURACIÓN DE LA SESIÓN                           43610 non-null  object        \n",
      " 49  LUGAR DE PRESTACIÓN                             43610 non-null  object        \n",
      " 50  BOGOTÁ/REGIÓN                                   43610 non-null  object        \n",
      " 51  JURISDICCIÓN                                    43610 non-null  object        \n",
      " 52  SALA                                            3646 non-null   object        \n",
      " 53  nombre_servicio                                 43610 non-null  object        \n",
      " 54  cod_servicio                                    43610 non-null  object        \n",
      " 55  NO. DE SESIONES                                 43610 non-null  object        \n",
      " 56  ESTADO SERVICIO PORTAFOLIO                      43610 non-null  object        \n",
      " 57  cod_agenda                                      43610 non-null  object        \n",
      " 58  Estado de la agenda                             1397 non-null   object        \n",
      " 59  WEBINAR/REUNION ZOOM (lista desplegable)        43610 non-null  object        \n",
      " 60  LICENCIAS EN USO\n",
      "lista desplegable              6855 non-null   object        \n",
      " 61  ENLACE DE CONEXIÓN                              7802 non-null   object        \n",
      " 62  nombre_agenda_y                                 35806 non-null  object        \n",
      " 63  ABIERTA/CERRADA (lista desplegable)             43610 non-null  object        \n",
      " 64  CONTRATO DE TRANSFERENCIA (TEXTO AJUSTADO)      43610 non-null  object        \n",
      " 65  EXTERNO / INTERNO / ALIADO                      43610 non-null  object        \n",
      " 66  nombre_facilitador_y                            43610 non-null  object        \n",
      " 67  WEBINARS PANELISTAS                             27787 non-null  object        \n",
      " 68  GRABACIÓN Y PUBLICACIÓN                         301 non-null    object        \n",
      " 69  CORREO CONFERENCISTA WEBINAR                    1982 non-null   object        \n",
      " 70  NOMBRE DEL CICLO                                11174 non-null  object        \n",
      " 71  # DE CICLO                                      4960 non-null   object        \n",
      " 72  OBSERVACIONES DEL SERVICIO                      5354 non-null   object        \n",
      " 73  programa                                        43610 non-null  object        \n",
      " 74  SECTOR                                          43595 non-null  object        \n",
      " 75  COLABORADOR GSOE QUE MODIFICA                   8350 non-null   object        \n",
      " 76  LLEGADA TARDE DEL CONSULTOR INTERNO / EXTERNO   70 non-null     object        \n",
      " 77  # VECES REPROGRAMADAS                           648 non-null    object        \n",
      " 78  FECHA DE SOLICITUD DE REPROGRAMACIÓN            974 non-null    object        \n",
      " 79  MOTIVO DE REPROGRAMACIÓN o CANCELACION          1118 non-null   object        \n",
      " 80  TOTAL INSCRITOS POR PÁGINA WEB                  35546 non-null  float64       \n",
      " 81  ASISTENTES POR PÁGINA WEB                       8217 non-null   float64       \n",
      " 82  Cargue VFE                                      35379 non-null  float64       \n",
      " 83  ASISTENTES                                      43610 non-null  float64       \n",
      " 84  TRIMESTRE                                       43610 non-null  float64       \n",
      " 85  CATEGORÍA                                       43610 non-null  object        \n",
      " 86  MECANISMO DE PRESTACIÓN                         43610 non-null  object        \n",
      " 87  MODALIDAD DE PRESTACIÓN                         43610 non-null  object        \n",
      " 88  LINEA DE ACCIÓN A LA QUE PERTENECE EL SERVICIO  43610 non-null  object        \n",
      " 89  area_tematica                                   43610 non-null  object        \n",
      " 90  DURACIÓN SESIÓN                                 43610 non-null  object        \n",
      " 91  DURACIÓNACTIVIDAD                               43610 non-null  object        \n",
      " 92  NO. DE SESIONES2                                43610 non-null  object        \n",
      " 93  Sesión CRM                                      43610 non-null  object        \n",
      " 94  Semana del año                                  43610 non-null  float64       \n",
      " 95  _merge                                          43658 non-null  category      \n",
      "dtypes: category(1), datetime64[ns](7), float64(11), object(77)\n",
      "memory usage: 32.0+ MB\n"
     ]
    }
   ],
   "source": [
    "asistenciasVFEpr=asistenciasVFEpr[asistenciasVFEpr['codigo_agenda'].notna()]\n",
    "asistenciasVFEpr.info()"
   ]
  },
  {
   "attachments": {},
   "cell_type": "markdown",
   "metadata": {},
   "source": [
    "**Agendas faltantes**"
   ]
  },
  {
   "cell_type": "code",
   "execution_count": 21,
   "metadata": {},
   "outputs": [
    {
     "data": {
      "text/plain": [
       "both          43610\n",
       "left_only        48\n",
       "right_only        0\n",
       "Name: _merge, dtype: int64"
      ]
     },
     "execution_count": 21,
     "metadata": {},
     "output_type": "execute_result"
    }
   ],
   "source": [
    "#Para saber cuantos faltan (left only)\n",
    "asistenciasVFEpr['_merge'].value_counts()"
   ]
  },
  {
   "cell_type": "code",
   "execution_count": 145,
   "metadata": {},
   "outputs": [],
   "source": [
    "agendasfaltantes=asistenciasVFEpr.loc[asistenciasVFEpr['_merge']=='left_only']"
   ]
  },
  {
   "cell_type": "code",
   "execution_count": 147,
   "metadata": {},
   "outputs": [
    {
     "name": "stderr",
     "output_type": "stream",
     "text": [
      "C:\\Users\\1032452285\\AppData\\Local\\Temp\\ipykernel_6296\\4037912825.py:1: SettingWithCopyWarning: \n",
      "A value is trying to be set on a copy of a slice from a DataFrame.\n",
      "Try using .loc[row_indexer,col_indexer] = value instead\n",
      "\n",
      "See the caveats in the documentation: https://pandas.pydata.org/pandas-docs/stable/user_guide/indexing.html#returning-a-view-versus-a-copy\n",
      "  agendasfaltantes['Inscritos'] = agendasfaltantes.groupby(['codigo_agenda'])['numero_documento'].transform('count')\n"
     ]
    }
   ],
   "source": [
    "agendasfaltantes['Inscritos'] = agendasfaltantes.groupby(['codigo_agenda'])['numero_documento'].transform('count')"
   ]
  },
  {
   "cell_type": "code",
   "execution_count": 149,
   "metadata": {},
   "outputs": [
    {
     "name": "stdout",
     "output_type": "stream",
     "text": [
      "<class 'pandas.core.frame.DataFrame'>\n",
      "Int64Index: 1 entries, 22387 to 22387\n",
      "Data columns (total 97 columns):\n",
      " #   Column                                          Non-Null Count  Dtype         \n",
      "---  ------                                          --------------  -----         \n",
      " 0   nombre_usuario                                  1 non-null      object        \n",
      " 1   numero_documento                                1 non-null      object        \n",
      " 2   telefono                                        1 non-null      object        \n",
      " 3   celular                                         1 non-null      object        \n",
      " 4   correo_electronico                              1 non-null      object        \n",
      " 5   nombre_municipio                                1 non-null      object        \n",
      " 6   razon_social                                    1 non-null      object        \n",
      " 7   nit_empresa                                     1 non-null      float64       \n",
      " 8   codigo_actividad                                1 non-null      object        \n",
      " 9   nombre_actividad                                1 non-null      object        \n",
      " 10  tipo_actividad                                  1 non-null      object        \n",
      " 11  eje_tematico                                    1 non-null      object        \n",
      " 12  codigo_agenda                                   1 non-null      object        \n",
      " 13  nombre_agenda_x                                 1 non-null      object        \n",
      " 14  estado_agenda                                   1 non-null      object        \n",
      " 15  fecha_inicio_actividad                          1 non-null      object        \n",
      " 16  fecha_fin_actividad                             1 non-null      object        \n",
      " 17  hora_inicio_actividad                           1 non-null      object        \n",
      " 18  hora_fin_actividad                              1 non-null      object        \n",
      " 19  fecha_inicio_agenda                             1 non-null      object        \n",
      " 20  fecha_fin_agenda                                1 non-null      object        \n",
      " 21  hora_inicio_agenda                              1 non-null      object        \n",
      " 22  hora_fin_agenda                                 1 non-null      object        \n",
      " 23  sede                                            1 non-null      object        \n",
      " 24  prestadoEnRegion                                1 non-null      object        \n",
      " 25  session                                         1 non-null      object        \n",
      " 26  numero_sesiones                                 1 non-null      float64       \n",
      " 27  nombre_facilitador_x                            0 non-null      object        \n",
      " 28  total_asistentes_por_session                    1 non-null      float64       \n",
      " 29  control_asistencia                              1 non-null      object        \n",
      " 30  porcentaje_asistencia                           1 non-null      float64       \n",
      " 31  macrosector_actividad                           1 non-null      object        \n",
      " 32  usuario_que_programa_la_actividad               1 non-null      object        \n",
      " 33  linea_trabajo_nombre                            1 non-null      object        \n",
      " 34  linea_accion_nombre                             1 non-null      object        \n",
      " 35  Fecha de inicio actividad arreglada             1 non-null      datetime64[ns]\n",
      " 36  Fecha de fin actividad arreglada                1 non-null      datetime64[ns]\n",
      " 37  Fecha de inicio agenda arreglada                1 non-null      datetime64[ns]\n",
      " 38  Fecha de fin agenda arreglada                   1 non-null      datetime64[ns]\n",
      " 39  sesion                                          1 non-null      float64       \n",
      " 40  fechaFin                                        1 non-null      datetime64[ns]\n",
      " 41  fechaInicio                                     1 non-null      datetime64[ns]\n",
      " 42  MES                                             0 non-null      object        \n",
      " 43  FECHA (lista desplegable)                       0 non-null      datetime64[ns]\n",
      " 44  DÍA                                             0 non-null      object        \n",
      " 45  HORARIO (lista desplegable)                     0 non-null      object        \n",
      " 46  JORNADA                                         0 non-null      object        \n",
      " 47  TIPO DE HORARIO                                 0 non-null      object        \n",
      " 48  DURACIÓN DE LA SESIÓN                           0 non-null      object        \n",
      " 49  LUGAR DE PRESTACIÓN                             0 non-null      object        \n",
      " 50  BOGOTÁ/REGIÓN                                   0 non-null      object        \n",
      " 51  JURISDICCIÓN                                    0 non-null      object        \n",
      " 52  SALA                                            0 non-null      object        \n",
      " 53  nombre_servicio                                 0 non-null      object        \n",
      " 54  cod_servicio                                    0 non-null      object        \n",
      " 55  NO. DE SESIONES                                 0 non-null      object        \n",
      " 56  ESTADO SERVICIO PORTAFOLIO                      0 non-null      object        \n",
      " 57  cod_agenda                                      0 non-null      object        \n",
      " 58  Estado de la agenda                             0 non-null      object        \n",
      " 59  WEBINAR/REUNION ZOOM (lista desplegable)        0 non-null      object        \n",
      " 60  LICENCIAS EN USO\n",
      "lista desplegable              0 non-null      object        \n",
      " 61  ENLACE DE CONEXIÓN                              0 non-null      object        \n",
      " 62  nombre_agenda_y                                 0 non-null      object        \n",
      " 63  ABIERTA/CERRADA (lista desplegable)             0 non-null      object        \n",
      " 64  CONTRATO DE TRANSFERENCIA (TEXTO AJUSTADO)      0 non-null      object        \n",
      " 65  EXTERNO / INTERNO / ALIADO                      0 non-null      object        \n",
      " 66  nombre_facilitador_y                            0 non-null      object        \n",
      " 67  WEBINARS PANELISTAS                             0 non-null      object        \n",
      " 68  GRABACIÓN Y PUBLICACIÓN                         0 non-null      object        \n",
      " 69  CORREO CONFERENCISTA WEBINAR                    0 non-null      object        \n",
      " 70  NOMBRE DEL CICLO                                0 non-null      object        \n",
      " 71  # DE CICLO                                      0 non-null      object        \n",
      " 72  OBSERVACIONES DEL SERVICIO                      0 non-null      object        \n",
      " 73  programa                                        0 non-null      object        \n",
      " 74  SECTOR                                          0 non-null      object        \n",
      " 75  COLABORADOR GSOE QUE MODIFICA                   0 non-null      object        \n",
      " 76  LLEGADA TARDE DEL CONSULTOR INTERNO / EXTERNO   0 non-null      object        \n",
      " 77  # VECES REPROGRAMADAS                           0 non-null      object        \n",
      " 78  FECHA DE SOLICITUD DE REPROGRAMACIÓN            0 non-null      object        \n",
      " 79  MOTIVO DE REPROGRAMACIÓN o CANCELACION          0 non-null      object        \n",
      " 80  TOTAL INSCRITOS POR PÁGINA WEB                  0 non-null      float64       \n",
      " 81  ASISTENTES POR PÁGINA WEB                       0 non-null      float64       \n",
      " 82  Cargue VFE                                      0 non-null      float64       \n",
      " 83  ASISTENTES                                      0 non-null      float64       \n",
      " 84  TRIMESTRE                                       0 non-null      float64       \n",
      " 85  CATEGORÍA                                       0 non-null      object        \n",
      " 86  MECANISMO DE PRESTACIÓN                         0 non-null      object        \n",
      " 87  MODALIDAD DE PRESTACIÓN                         0 non-null      object        \n",
      " 88  LINEA DE ACCIÓN A LA QUE PERTENECE EL SERVICIO  0 non-null      object        \n",
      " 89  area_tematica                                   0 non-null      object        \n",
      " 90  DURACIÓN SESIÓN                                 0 non-null      object        \n",
      " 91  DURACIÓNACTIVIDAD                               0 non-null      object        \n",
      " 92  NO. DE SESIONES2                                0 non-null      object        \n",
      " 93  Sesión CRM                                      0 non-null      object        \n",
      " 94  Semana del año                                  0 non-null      float64       \n",
      " 95  _merge                                          1 non-null      category      \n",
      " 96  Inscritos                                       1 non-null      int64         \n",
      "dtypes: category(1), datetime64[ns](7), float64(11), int64(1), object(77)\n",
      "memory usage: 909.0+ bytes\n"
     ]
    }
   ],
   "source": [
    "agendasfaltantes=agendasfaltantes.drop_duplicates(subset=['codigo_agenda'], keep='last')\n",
    "agendasfaltantes.info()"
   ]
  },
  {
   "cell_type": "code",
   "execution_count": null,
   "metadata": {},
   "outputs": [],
   "source": [
    "# Si las agendas NO son asesorías individuales, pasarlas a Excel y pedir apoyo de Adriana\n",
    "agendasfaltantes.to_excel('C:/Users/1032452285/OneDrive - Camara de Comercio de Bogota/Documentos - Gestión Analítica VFE/Mensuales/agendasfaltantes.xlsx', index = False)"
   ]
  },
  {
   "cell_type": "code",
   "execution_count": 23,
   "metadata": {},
   "outputs": [
    {
     "data": {
      "text/plain": [
       "both          43610\n",
       "left_only         0\n",
       "right_only        0\n",
       "Name: _merge, dtype: int64"
      ]
     },
     "execution_count": 23,
     "metadata": {},
     "output_type": "execute_result"
    }
   ],
   "source": [
    "# Si las agendas son asesorías individuales, eliminarlas\n",
    "_merge=['both']\n",
    "asistenciasVFEpr=asistenciasVFEpr.loc[asistenciasVFEpr['_merge'].isin(_merge)]\n",
    "asistenciasVFEpr['_merge'].value_counts()"
   ]
  },
  {
   "attachments": {},
   "cell_type": "markdown",
   "metadata": {},
   "source": [
    "# Base asistencias corregida"
   ]
  },
  {
   "cell_type": "code",
   "execution_count": 24,
   "metadata": {},
   "outputs": [],
   "source": [
    "actividades = asistenciasVFEpr.rename(columns={'nombre_usuario':'NOMBRE_USUARIO',\n",
    "                                             'numero_documento':'NUM_DOCUMENTO',\n",
    "                                             'telefono':'TELEFONO_UNO',\n",
    "                                             'celular':'CELULAR',\n",
    "                                             'correo_electronico':'CORREO_ELECTRONICO',\n",
    "                                             'nombre_municipio':'NOMBRE_MUNICIPIO',\n",
    "                                             'razon_social':'RAZON_SOCIAL',\n",
    "                                             'nit_empresa':'NIT_EMPRESA',\n",
    "                                             'codigo_actividad':'CODIGO_ACTIVIDAD',\n",
    "                                             'nombre_actividad':'NOMBRE_ACTIVIDAD',\n",
    "                                             'tipo_actividad':'TIPO_ACTIVIDAD',\n",
    "                                             'codigo_agenda':'CODIGO_AGENDA',\n",
    "                                             'nombre_agenda_y':'NOMBRE_AGENDA',\n",
    "                                             'estado_agenda':'ESTADO_AGENDA',\n",
    "                                             'hora_inicio_actividad':'HORA_INICIO_ACTIVIDAD',\n",
    "                                             'hora_fin_actividad':'HORA_FIN_ACTIVIDAD',\n",
    "                                             'sede':'SEDE',\n",
    "                                             'sesion':'SESION',\n",
    "                                             'numero_sesiones':'NUMERO_SESIONES',\n",
    "                                             'nombre_facilitador_y':'NOMBRE_FACILITADOR',\n",
    "                                             'control_asistencia':'CONTROL_ASISTENCIA',\n",
    "                                             'fecha_inicio_agenda':'FECHA_REGISTRO_ASISTENCIA',\n",
    "                                             'usuario_que_programa_la_actividad':'USUARIO_REGISTRA_ASISTENCIA',\n",
    "                                             'porcentaje_asistencia':'PORCENTAJE_ASISTENCIA',\n",
    "                                             'macrosector_actividad':'Macrosector', \n",
    "                                             'nombre_municipio':'NOMBRE_MUNICIPIO',\n",
    "                                             'programa':'PROGRAMA AL CUAL SE CARGA',\n",
    "                                             'area_tematica':'ÁREA TEMÁTICA',\n",
    "                                             'MODALIDAD DE PRESTACIÓN':'MODALIDAD DE PRESTACIÓN',\n",
    "                                             'fechaInicio':'fecha_inicio_actividad',\n",
    "                                             'fechaFin':'fecha_fin_actividad',\n",
    "                                             'programa':'PROGRAMA AL CUAL SE CARGA',\n",
    "                                             'fechaInicio':'fecha_inicio_actividad',\n",
    "                                             'fechaFin':'fecha_fin_actividad',\n",
    "                                             'LUGAR DE PRESTACIÓN':'?LUGAR'})"
   ]
  },
  {
   "cell_type": "code",
   "execution_count": 25,
   "metadata": {},
   "outputs": [
    {
     "name": "stdout",
     "output_type": "stream",
     "text": [
      "<class 'pandas.core.frame.DataFrame'>\n",
      "Int64Index: 43610 entries, 0 to 43657\n",
      "Data columns (total 96 columns):\n",
      " #   Column                                          Non-Null Count  Dtype         \n",
      "---  ------                                          --------------  -----         \n",
      " 0   NOMBRE_USUARIO                                  27921 non-null  object        \n",
      " 1   NUM_DOCUMENTO                                   43610 non-null  object        \n",
      " 2   TELEFONO_UNO                                    22837 non-null  object        \n",
      " 3   CELULAR                                         23706 non-null  object        \n",
      " 4   CORREO_ELECTRONICO                              27417 non-null  object        \n",
      " 5   NOMBRE_MUNICIPIO                                27850 non-null  object        \n",
      " 6   RAZON_SOCIAL                                    27921 non-null  object        \n",
      " 7   NIT_EMPRESA                                     11324 non-null  float64       \n",
      " 8   CODIGO_ACTIVIDAD                                43610 non-null  object        \n",
      " 9   NOMBRE_ACTIVIDAD                                43610 non-null  object        \n",
      " 10  TIPO_ACTIVIDAD                                  43610 non-null  object        \n",
      " 11  eje_tematico                                    42117 non-null  object        \n",
      " 12  CODIGO_AGENDA                                   43610 non-null  object        \n",
      " 13  nombre_agenda_x                                 43610 non-null  object        \n",
      " 14  ESTADO_AGENDA                                   43610 non-null  object        \n",
      " 15  fecha_inicio_actividad                          43610 non-null  datetime64[ns]\n",
      " 16  fecha_fin_actividad                             43610 non-null  datetime64[ns]\n",
      " 17  HORA_INICIO_ACTIVIDAD                           43610 non-null  object        \n",
      " 18  HORA_FIN_ACTIVIDAD                              43610 non-null  object        \n",
      " 19  FECHA_REGISTRO_ASISTENCIA                       43610 non-null  object        \n",
      " 20  fecha_fin_agenda                                43610 non-null  object        \n",
      " 21  hora_inicio_agenda                              43610 non-null  object        \n",
      " 22  hora_fin_agenda                                 43610 non-null  object        \n",
      " 23  SEDE                                            43610 non-null  object        \n",
      " 24  prestadoEnRegion                                43610 non-null  object        \n",
      " 25  session                                         43610 non-null  object        \n",
      " 26  NUMERO_SESIONES                                 43610 non-null  float64       \n",
      " 27  nombre_facilitador_x                            43133 non-null  object        \n",
      " 28  total_asistentes_por_session                    43610 non-null  float64       \n",
      " 29  CONTROL_ASISTENCIA                              43610 non-null  object        \n",
      " 30  PORCENTAJE_ASISTENCIA                           43610 non-null  float64       \n",
      " 31  Macrosector                                     43566 non-null  object        \n",
      " 32  USUARIO_REGISTRA_ASISTENCIA                     43610 non-null  object        \n",
      " 33  linea_trabajo_nombre                            43610 non-null  object        \n",
      " 34  linea_accion_nombre                             43610 non-null  object        \n",
      " 35  Fecha de inicio actividad arreglada             43610 non-null  datetime64[ns]\n",
      " 36  Fecha de fin actividad arreglada                43610 non-null  datetime64[ns]\n",
      " 37  Fecha de inicio agenda arreglada                43610 non-null  datetime64[ns]\n",
      " 38  Fecha de fin agenda arreglada                   43610 non-null  datetime64[ns]\n",
      " 39  SESION                                          43610 non-null  float64       \n",
      " 40  fecha_fin_actividad                             43610 non-null  datetime64[ns]\n",
      " 41  fecha_inicio_actividad                          43610 non-null  datetime64[ns]\n",
      " 42  MES                                             43610 non-null  object        \n",
      " 43  FECHA (lista desplegable)                       43610 non-null  datetime64[ns]\n",
      " 44  DÍA                                             43610 non-null  object        \n",
      " 45  HORARIO (lista desplegable)                     43610 non-null  object        \n",
      " 46  JORNADA                                         43610 non-null  object        \n",
      " 47  TIPO DE HORARIO                                 43610 non-null  object        \n",
      " 48  DURACIÓN DE LA SESIÓN                           43610 non-null  object        \n",
      " 49  ?LUGAR                                          43610 non-null  object        \n",
      " 50  BOGOTÁ/REGIÓN                                   43610 non-null  object        \n",
      " 51  JURISDICCIÓN                                    43610 non-null  object        \n",
      " 52  SALA                                            3646 non-null   object        \n",
      " 53  nombre_servicio                                 43610 non-null  object        \n",
      " 54  cod_servicio                                    43610 non-null  object        \n",
      " 55  NO. DE SESIONES                                 43610 non-null  object        \n",
      " 56  ESTADO SERVICIO PORTAFOLIO                      43610 non-null  object        \n",
      " 57  cod_agenda                                      43610 non-null  object        \n",
      " 58  Estado de la agenda                             1397 non-null   object        \n",
      " 59  WEBINAR/REUNION ZOOM (lista desplegable)        43610 non-null  object        \n",
      " 60  LICENCIAS EN USO\n",
      "lista desplegable              6855 non-null   object        \n",
      " 61  ENLACE DE CONEXIÓN                              7802 non-null   object        \n",
      " 62  NOMBRE_AGENDA                                   35806 non-null  object        \n",
      " 63  ABIERTA/CERRADA (lista desplegable)             43610 non-null  object        \n",
      " 64  CONTRATO DE TRANSFERENCIA (TEXTO AJUSTADO)      43610 non-null  object        \n",
      " 65  EXTERNO / INTERNO / ALIADO                      43610 non-null  object        \n",
      " 66  NOMBRE_FACILITADOR                              43610 non-null  object        \n",
      " 67  WEBINARS PANELISTAS                             27787 non-null  object        \n",
      " 68  GRABACIÓN Y PUBLICACIÓN                         301 non-null    object        \n",
      " 69  CORREO CONFERENCISTA WEBINAR                    1982 non-null   object        \n",
      " 70  NOMBRE DEL CICLO                                11174 non-null  object        \n",
      " 71  # DE CICLO                                      4960 non-null   object        \n",
      " 72  OBSERVACIONES DEL SERVICIO                      5354 non-null   object        \n",
      " 73  PROGRAMA AL CUAL SE CARGA                       43610 non-null  object        \n",
      " 74  SECTOR                                          43595 non-null  object        \n",
      " 75  COLABORADOR GSOE QUE MODIFICA                   8350 non-null   object        \n",
      " 76  LLEGADA TARDE DEL CONSULTOR INTERNO / EXTERNO   70 non-null     object        \n",
      " 77  # VECES REPROGRAMADAS                           648 non-null    object        \n",
      " 78  FECHA DE SOLICITUD DE REPROGRAMACIÓN            974 non-null    object        \n",
      " 79  MOTIVO DE REPROGRAMACIÓN o CANCELACION          1118 non-null   object        \n",
      " 80  TOTAL INSCRITOS POR PÁGINA WEB                  35546 non-null  float64       \n",
      " 81  ASISTENTES POR PÁGINA WEB                       8217 non-null   float64       \n",
      " 82  Cargue VFE                                      35379 non-null  float64       \n",
      " 83  ASISTENTES                                      43610 non-null  float64       \n",
      " 84  TRIMESTRE                                       43610 non-null  float64       \n",
      " 85  CATEGORÍA                                       43610 non-null  object        \n",
      " 86  MECANISMO DE PRESTACIÓN                         43610 non-null  object        \n",
      " 87  MODALIDAD DE PRESTACIÓN                         43610 non-null  object        \n",
      " 88  LINEA DE ACCIÓN A LA QUE PERTENECE EL SERVICIO  43610 non-null  object        \n",
      " 89  ÁREA TEMÁTICA                                   43610 non-null  object        \n",
      " 90  DURACIÓN SESIÓN                                 43610 non-null  object        \n",
      " 91  DURACIÓNACTIVIDAD                               43610 non-null  object        \n",
      " 92  NO. DE SESIONES2                                43610 non-null  object        \n",
      " 93  Sesión CRM                                      43610 non-null  object        \n",
      " 94  Semana del año                                  43610 non-null  float64       \n",
      " 95  _merge                                          43610 non-null  category      \n",
      "dtypes: category(1), datetime64[ns](9), float64(11), object(75)\n",
      "memory usage: 32.0+ MB\n"
     ]
    }
   ],
   "source": [
    "actividades[['fecha_fin_actividad','fecha_inicio_actividad']]=actividades[['fecha_fin_actividad','fecha_inicio_actividad']].apply(pd.to_datetime,format='%Y-%m-%d', errors='coerce')\n",
    "actividades.info()"
   ]
  },
  {
   "cell_type": "code",
   "execution_count": 26,
   "metadata": {},
   "outputs": [],
   "source": [
    "actividades['Año'] = actividades['Fecha de inicio actividad arreglada'].dt.year\n",
    "actividades['Mes'] = actividades['Fecha de inicio actividad arreglada'].dt.month"
   ]
  },
  {
   "cell_type": "code",
   "execution_count": 27,
   "metadata": {},
   "outputs": [],
   "source": [
    "## Creamos las variables faltantes\n",
    "#Vacías:\n",
    "actividades['APELLIDO_USUARIO_1']=\"\"\n",
    "actividades['APELLIDO_USUARIO_2']=\"\"\n",
    "actividades['APELLIDOS_FACILITADOR']=\"\"\n",
    "actividades['DOCUMENTO_FACILITADOR']=\"\"\n",
    "actividades['LINEA_DEL_CONFERENCISTA']=\"\"\n",
    "actividades['ID_DEL_DIAGNOSTICO']=\"\"\n",
    "actividades['Convenio']=\"\"\n",
    "actividades['TELEFONO_DOS']=\"\""
   ]
  },
  {
   "cell_type": "code",
   "execution_count": 28,
   "metadata": {},
   "outputs": [],
   "source": [
    "## Calculamos las que se repiten\n",
    "actividades['EJE_TEMATICO']=actividades['ÁREA TEMÁTICA']\n",
    "actividades['MACRO AL CUAL SE CARGA']=actividades['Macrosector']"
   ]
  },
  {
   "cell_type": "code",
   "execution_count": 29,
   "metadata": {},
   "outputs": [
    {
     "data": {
      "text/plain": [
       "Online             27339\n",
       "Virtual             6940\n",
       "Presencial          5331\n",
       "Sede Salitre        1417\n",
       "Sede Chapinero      1058\n",
       "Innovalab            815\n",
       "Sede Fusagasugá      264\n",
       "Sede Chía            179\n",
       "Sede Kennedy          63\n",
       "Choachí               49\n",
       "Sopó                  34\n",
       "Cajicá                28\n",
       "Chipaque              27\n",
       "Zipaquirá             18\n",
       "Sede Soacha           16\n",
       "Sibaté                12\n",
       "Lenguazaque           10\n",
       "Tibacuy                8\n",
       "Villapinzón            1\n",
       "Chía                   1\n",
       "Name: ?LUGAR, dtype: int64"
      ]
     },
     "execution_count": 29,
     "metadata": {},
     "output_type": "execute_result"
    }
   ],
   "source": [
    "actividades['?LUGAR'].value_counts()"
   ]
  },
  {
   "cell_type": "code",
   "execution_count": 30,
   "metadata": {},
   "outputs": [
    {
     "name": "stderr",
     "output_type": "stream",
     "text": [
      "C:\\Users\\1032452285\\AppData\\Local\\Temp\\ipykernel_5928\\3666918495.py:2: FutureWarning: The default value of regex will change from True to False in a future version.\n",
      "  actividades['?LUGAR'] = actividades['?LUGAR'].str.upper().str.replace(r'[^\\w\\s]', '').str.strip()\n"
     ]
    }
   ],
   "source": [
    "## Unificamos región\n",
    "actividades['?LUGAR'] = actividades['?LUGAR'].str.upper().str.replace(r'[^\\w\\s]', '').str.strip()\n",
    "\n",
    "actividades.loc[actividades['?LUGAR'].str.contains('ONLINE', case=False, regex=True), '?LUGAR'] = 'NA'\n",
    "actividades.loc[actividades['?LUGAR'].str.contains('VIRTUAL', case=False, regex=True), '?LUGAR'] = 'NA'\n",
    "actividades.loc[actividades['?LUGAR'].str.contains('OTRO ALIADO BOGOTÁ', case=False, regex=True), '?LUGAR'] = 'BOGOTÁ D.C.'\n",
    "actividades.loc[actividades['?LUGAR'].str.contains('PRESENCIAL', case=False, regex=True), '?LUGAR'] = 'BOGOTÁ D.C.'\n",
    "actividades.loc[actividades['?LUGAR'].str.contains('SALITRE', case=False, regex=True), '?LUGAR'] = 'BOGOTÁ D.C.'\n",
    "actividades.loc[actividades['?LUGAR'].str.contains('CHAPINERO', case=False, regex=True), '?LUGAR'] = 'BOGOTÁ D.C.'\n",
    "actividades.loc[actividades['?LUGAR'].str.contains('INNOVALAB', case=False, regex=True), '?LUGAR'] = 'BOGOTÁ D.C.'\n",
    "actividades.loc[actividades['?LUGAR'].str.contains('KENNEDY', case=False, regex=True), '?LUGAR'] = 'BOGOTÁ D.C.'\n",
    "actividades.loc[actividades['?LUGAR'].str.contains('ARBEL', case=False, regex=True), '?LUGAR'] = 'ARBELÁEZ (CUNDINAMARCA)'\n",
    "actividades.loc[actividades['?LUGAR'].str.contains('CABRER', case=False, regex=True), '?LUGAR'] = 'CABRERA (CUNDINAMARCA)'\n",
    "actividades.loc[actividades['?LUGAR'].str.contains('CAJIC', case=False, regex=True), '?LUGAR'] = 'CAJICÁ (CUNDINAMARCA)'\n",
    "actividades.loc[actividades['?LUGAR'].str.contains('QUEZA', case=False, regex=True), '?LUGAR'] = 'CAQUEZA (CUNDINAMARCA)'\n",
    "actividades.loc[actividades['?LUGAR'].str.contains('CARUPA', case=False, regex=True), '?LUGAR'] = 'CARMEN DE CARUPA (CUNDINAMARCA)'\n",
    "actividades.loc[actividades['?LUGAR'].str.contains('CHÍA', case=False, regex=True), '?LUGAR'] = 'CHÍA (CUNDINAMARCA)'\n",
    "actividades.loc[actividades['?LUGAR'].str.contains('CHIPAQUE', case=False, regex=True), '?LUGAR'] = 'CHIPAQUE (CUNDINAMARCA)'\n",
    "actividades.loc[actividades['?LUGAR'].str.contains('CHOACH', case=False, regex=True), '?LUGAR'] = 'CHOACHÍ (CUNDINAMARCA)'\n",
    "actividades.loc[actividades['?LUGAR'].str.contains('CHOCONT', case=False, regex=True), '?LUGAR'] = 'CHOCONTÁ (CUNDINAMARCA)'\n",
    "actividades.loc[actividades['?LUGAR'].str.contains('CHOCONT', case=False, regex=True), '?LUGAR'] = 'CHOCONTÁ (CUNDINAMARCA)'\n",
    "actividades.loc[actividades['?LUGAR'].str.contains('COGU', case=False, regex=True), '?LUGAR'] = 'COGUA (CUNDINAMARCA)'\n",
    "actividades.loc[actividades['?LUGAR'].str.contains('COT', case=False, regex=True), '?LUGAR'] = 'COTA (CUNDINAMARCA)'\n",
    "actividades.loc[actividades['?LUGAR'].str.contains('CUCUNU', case=False, regex=True), '?LUGAR'] = 'CUCUNUBÁ (CUNDINAMARCA)'\n",
    "actividades.loc[actividades['?LUGAR'].str.contains('MEQUE', case=False, regex=True), '?LUGAR'] = 'FÓMEQUE (CUNDINAMARCA)'\n",
    "actividades.loc[actividades['?LUGAR'].str.contains('FOSC', case=False, regex=True), '?LUGAR'] = 'FOSCA (CUNDINAMARCA)'\n",
    "actividades.loc[actividades['?LUGAR'].str.contains('QUENE', case=False, regex=True), '?LUGAR'] = 'FÚQUENE (CUNDINAMARCA)'\n",
    "actividades.loc[actividades['?LUGAR'].str.contains('FUSAGA', case=False, regex=True), '?LUGAR'] = 'FUSAGASUGÁ (CUNDINAMARCA)'\n",
    "actividades.loc[actividades['?LUGAR'].str.contains('GACHAL', case=False, regex=True), '?LUGAR'] = 'GACHALÁ (CUNDINAMARCA)'\n",
    "actividades.loc[actividades['?LUGAR'].str.contains('GACHANCI', case=False, regex=True), '?LUGAR'] = 'GACHANCIPÁ (CUNDINAMARCA)'\n",
    "actividades.loc[actividades['?LUGAR'].str.contains('GACHET', case=False, regex=True), '?LUGAR'] = 'GACHETÁ (CUNDINAMARCA)'\n",
    "actividades.loc[actividades['?LUGAR'].str.contains('GAMA', case=False, regex=True), '?LUGAR'] = 'GAMA (CUNDINAMARCA)'\n",
    "actividades.loc[actividades['?LUGAR'].str.contains('GRANA', case=False, regex=True), '?LUGAR'] = 'GRANADA (CUNDINAMARCA)'\n",
    "actividades.loc[actividades['?LUGAR'].str.contains('GUACHE', case=False, regex=True), '?LUGAR'] = 'GUACHETÁ (CUNDINAMARCA)'\n",
    "actividades.loc[actividades['?LUGAR'].str.contains('GUASCA', case=False, regex=True), '?LUGAR'] = 'GUASCA (CUNDINAMARCA)'\n",
    "actividades.loc[actividades['?LUGAR'].str.contains('GUATAVI', case=False, regex=True), '?LUGAR'] = 'GUATAVITA (CUNDINAMARCA)'\n",
    "actividades.loc[actividades['?LUGAR'].str.contains('GUAYAB', case=False, regex=True), '?LUGAR'] = 'GUAYABETAL (CUNDINAMARCA)'\n",
    "actividades.loc[actividades['?LUGAR'].str.contains('GUTI', case=False, regex=True), '?LUGAR'] = 'GUTIÉRREZ (CUNDINAMARCA)'\n",
    "actividades.loc[actividades['?LUGAR'].str.contains('JUN', case=False, regex=True), '?LUGAR'] = 'JUNÍN (CUNDINAMARCA)'\n",
    "actividades.loc[actividades['?LUGAR'].str.contains('CALER', case=False, regex=True), '?LUGAR'] = 'LA CALERA (CUNDINAMARCA)'\n",
    "actividades.loc[actividades['?LUGAR'].str.contains('LENGUAZAQUE', case=False, regex=True), '?LUGAR'] = 'LENGUAZAQUE (CUNDINAMARCA)'\n",
    "actividades.loc[actividades['?LUGAR'].str.contains('MACHE', case=False, regex=True), '?LUGAR'] = 'MACHETÁ (CUNDINAMARCA)'\n",
    "actividades.loc[actividades['?LUGAR'].str.contains('MANT', case=False, regex=True), '?LUGAR'] = 'MANTA (CUNDINAMARCA)'\n",
    "actividades.loc[actividades['?LUGAR'].str.contains('MEDIN', case=False, regex=True), '?LUGAR'] = 'MEDINA (CUNDINAMARCA)'\n",
    "actividades.loc[actividades['?LUGAR'].str.contains('NEMOC', case=False, regex=True), '?LUGAR'] = 'NEMOCÓN (CUNDINAMARCA)'\n",
    "actividades.loc[actividades['?LUGAR'].str.contains('PAND', case=False, regex=True), '?LUGAR'] = 'PANDI (CUNDINAMARCA)'\n",
    "actividades.loc[actividades['?LUGAR'].str.contains('PASC', case=False, regex=True), '?LUGAR'] = 'PASCA (CUNDINAMARCA)'\n",
    "actividades.loc[actividades['?LUGAR'].str.contains('QUETAM', case=False, regex=True), '?LUGAR'] = 'QUETAME (CUNDINAMARCA)'\n",
    "actividades.loc[actividades['?LUGAR'].str.contains('BERNARD', case=False, regex=True), '?LUGAR'] = 'SAN BERNARDO (CUNDINAMARCA)'\n",
    "actividades.loc[actividades['?LUGAR'].str.contains('SESQUI', case=False, regex=True), '?LUGAR'] = 'SESQUILÉ (CUNDINAMARCA)'\n",
    "actividades.loc[actividades['?LUGAR'].str.contains('SIBAT', case=False, regex=True), '?LUGAR'] = 'SIBATÉ (CUNDINAMARCA)'\n",
    "actividades.loc[actividades['?LUGAR'].str.contains('SILVAN', case=False, regex=True), '?LUGAR'] = 'SILVANIA (CUNDINAMARCA)'\n",
    "actividades.loc[actividades['?LUGAR'].str.contains('SIMIJA', case=False, regex=True), '?LUGAR'] = 'SIMIJACA (CUNDINAMARCA)'\n",
    "actividades.loc[actividades['?LUGAR'].str.contains('SOACHA', case=False, regex=True), '?LUGAR'] = 'SOACHA (CUNDINAMARCA)'\n",
    "actividades.loc[actividades['?LUGAR'].str.contains('SOP', case=False, regex=True), '?LUGAR'] = 'SOPÓ (CUNDINAMARCA)'\n",
    "actividades.loc[actividades['?LUGAR'].str.contains('SUESC', case=False, regex=True), '?LUGAR'] = 'SUESCA (CUNDINAMARCA)'\n",
    "actividades.loc[actividades['?LUGAR'].str.contains('SUSA', case=False, regex=True), '?LUGAR'] = 'SUSA (CUNDINAMARCA)'\n",
    "actividades.loc[actividades['?LUGAR'].str.contains('SUTATA', case=False, regex=True), '?LUGAR'] = 'SUTATAUSA (CUNDINAMARCA)'\n",
    "actividades.loc[actividades['?LUGAR'].str.contains('TABI', case=False, regex=True), '?LUGAR'] = 'TABIO (CUNDINAMARCA)'\n",
    "actividades.loc[actividades['?LUGAR'].str.contains('TAUS', case=False, regex=True), '?LUGAR'] = 'TAUSA (CUNDINAMARCA)'\n",
    "actividades.loc[actividades['?LUGAR'].str.contains('TENJ', case=False, regex=True), '?LUGAR'] = 'TENJO (CUNDINAMARCA)'\n",
    "actividades.loc[actividades['?LUGAR'].str.contains('TIBACU', case=False, regex=True), '?LUGAR'] = 'TIBACUY (CUNDINAMARCA)'\n",
    "actividades.loc[actividades['?LUGAR'].str.contains('TIBIRI', case=False, regex=True), '?LUGAR'] = 'TIBIRITÁ (CUNDINAMARCA)'\n",
    "actividades.loc[actividades['?LUGAR'].str.contains('TOCANCI', case=False, regex=True), '?LUGAR'] = 'TOCANCIPA (CUNDINAMARCA)'\n",
    "actividades.loc[actividades['?LUGAR'].str.contains('UBAL', case=False, regex=True), '?LUGAR'] = 'UBALÁ (CUNDINAMARCA)'\n",
    "actividades.loc[actividades['?LUGAR'].str.contains('UBAQ', case=False, regex=True), '?LUGAR'] = 'UBAQUE (CUNDINAMARCA)'\n",
    "actividades.loc[actividades['?LUGAR'].str.contains('UBAT', case=False, regex=True), '?LUGAR'] = 'UBATÉ (CUNDINAMARCA)'\n",
    "actividades.loc[actividades['?LUGAR'].str.contains('UNE', case=False, regex=True), '?LUGAR'] = 'UNE (CUNDINAMARCA)'\n",
    "actividades.loc[actividades['?LUGAR'].str.contains('VENEC', case=False, regex=True), '?LUGAR'] = 'VENECIA (CUNDINAMARCA)'\n",
    "actividades.loc[actividades['?LUGAR'].str.contains('VILLAP', case=False, regex=True), '?LUGAR'] = 'VILLAPINZÓN (CUNDINAMARCA)'\n",
    "actividades.loc[actividades['?LUGAR'].str.contains('ZIPAQUIR', case=False, regex=True), '?LUGAR'] = 'ZIPAQUIRÁ (CUNDINAMARCA)'"
   ]
  },
  {
   "cell_type": "code",
   "execution_count": 31,
   "metadata": {},
   "outputs": [
    {
     "data": {
      "text/plain": [
       "NA                            34279\n",
       "BOGOTÁ D.C.                    8684\n",
       "FUSAGASUGÁ (CUNDINAMARCA)       264\n",
       "CHÍA (CUNDINAMARCA)             180\n",
       "CHOACHÍ (CUNDINAMARCA)           49\n",
       "SOPÓ (CUNDINAMARCA)              34\n",
       "CAJICÁ (CUNDINAMARCA)            28\n",
       "CHIPAQUE (CUNDINAMARCA)          27\n",
       "ZIPAQUIRÁ (CUNDINAMARCA)         18\n",
       "SOACHA (CUNDINAMARCA)            16\n",
       "SIBATÉ (CUNDINAMARCA)            12\n",
       "LENGUAZAQUE (CUNDINAMARCA)       10\n",
       "TIBACUY (CUNDINAMARCA)            8\n",
       "VILLAPINZÓN (CUNDINAMARCA)        1\n",
       "Name: ?LUGAR, dtype: int64"
      ]
     },
     "execution_count": 31,
     "metadata": {},
     "output_type": "execute_result"
    }
   ],
   "source": [
    "actividades['?LUGAR'].value_counts()"
   ]
  },
  {
   "cell_type": "code",
   "execution_count": 32,
   "metadata": {},
   "outputs": [],
   "source": [
    "actividades=actividades [['NOMBRE_USUARIO','APELLIDO_USUARIO_1','APELLIDO_USUARIO_2','NUM_DOCUMENTO','TELEFONO_UNO',\n",
    "                        'CELULAR','CORREO_ELECTRONICO','NOMBRE_MUNICIPIO','RAZON_SOCIAL','NIT_EMPRESA','CODIGO_ACTIVIDAD',\n",
    "                        'NOMBRE_ACTIVIDAD','TIPO_ACTIVIDAD','EJE_TEMATICO','CODIGO_AGENDA','NOMBRE_AGENDA','ESTADO_AGENDA',\n",
    "                        'HORA_INICIO_ACTIVIDAD','HORA_FIN_ACTIVIDAD','SEDE','SESION','NUMERO_SESIONES','NOMBRE_FACILITADOR',\n",
    "                        'APELLIDOS_FACILITADOR','DOCUMENTO_FACILITADOR','CONTROL_ASISTENCIA','FECHA_REGISTRO_ASISTENCIA',\n",
    "                        'USUARIO_REGISTRA_ASISTENCIA','PORCENTAJE_ASISTENCIA','LINEA_DEL_CONFERENCISTA','ID_DEL_DIAGNOSTICO',\n",
    "                        'Macrosector','Año','Mes','?LUGAR','PROGRAMA AL CUAL SE CARGA','MACRO AL CUAL SE CARGA','ÁREA TEMÁTICA',\n",
    "                        'MODALIDAD DE PRESTACIÓN','Convenio','TELEFONO_DOS','fecha_inicio_actividad','fecha_fin_actividad']] "
   ]
  },
  {
   "attachments": {},
   "cell_type": "markdown",
   "metadata": {},
   "source": [
    "**Arreglos** "
   ]
  },
  {
   "cell_type": "code",
   "execution_count": 33,
   "metadata": {},
   "outputs": [],
   "source": [
    "actividades = actividades.rename(columns={'NUM_DOCUMENTO': 'documentousuario'})\n",
    "actividades['documentousuario'] = actividades['documentousuario'].astype(str)\n",
    "actividades = actividades[actividades['documentousuario'] != \".\"]"
   ]
  },
  {
   "cell_type": "code",
   "execution_count": 34,
   "metadata": {},
   "outputs": [],
   "source": [
    "actividades = actividades.rename(columns={'CODIGO_AGENDA': 'codigo_agenda'})"
   ]
  },
  {
   "cell_type": "code",
   "execution_count": 35,
   "metadata": {},
   "outputs": [],
   "source": [
    "actividades['_dup'] = actividades.duplicated(subset=['codigo_agenda', 'SESION', 'fecha_inicio_actividad', 'documentousuario'])\n",
    "actividades = actividades.sort_values(by=['codigo_agenda', 'SESION', 'documentousuario', '_dup'])\n",
    "actividades = actividades[actividades['_dup'] == False]\n",
    "actividades = actividades.drop('_dup', axis=1)"
   ]
  },
  {
   "cell_type": "code",
   "execution_count": 36,
   "metadata": {},
   "outputs": [],
   "source": [
    "actividades.loc[actividades['NIT_EMPRESA'].isnull(), 'NIT_EMPRESA'] = 0\n",
    "actividades['nit'] = pd.to_numeric(actividades['NIT_EMPRESA'], errors='coerce')\n",
    "actividades['NIT'] = actividades.groupby('documentousuario')['nit'].first().astype(int).astype(str)\n",
    "actividades = actividades.drop(['NIT_EMPRESA', 'nit'], axis=1)"
   ]
  },
  {
   "cell_type": "code",
   "execution_count": 37,
   "metadata": {},
   "outputs": [],
   "source": [
    "actividades.drop_duplicates(subset=['codigo_agenda', 'SESION', 'fecha_inicio_actividad', 'documentousuario'], inplace=True)"
   ]
  },
  {
   "cell_type": "code",
   "execution_count": 38,
   "metadata": {},
   "outputs": [
    {
     "name": "stderr",
     "output_type": "stream",
     "text": [
      "C:\\Users\\1032452285\\AppData\\Local\\Temp\\ipykernel_5928\\1046315549.py:1: FutureWarning: The default value of regex will change from True to False in a future version. In addition, single character regular expressions will *not* be treated as literal strings when regex=True.\n",
      "  actividades['documentousuario'] = actividades['documentousuario'].str.replace(\".\", \"\")\n"
     ]
    }
   ],
   "source": [
    "actividades['documentousuario'] = actividades['documentousuario'].str.replace(\".\", \"\")\n",
    "actividades['year'] = 2023\n",
    "actividades.sort_values(by='documentousuario', inplace=True)"
   ]
  },
  {
   "cell_type": "code",
   "execution_count": 39,
   "metadata": {},
   "outputs": [],
   "source": [
    "actividades.loc[actividades['NOMBRE_AGENDA'].isnull(), 'NOMBRE_AGENDA'] = actividades['NOMBRE_ACTIVIDAD']"
   ]
  },
  {
   "cell_type": "code",
   "execution_count": 40,
   "metadata": {},
   "outputs": [],
   "source": [
    "actividades = actividades[~actividades['NOMBRE_AGENDA'].str.contains(\"rueba\")]\n",
    "actividades.loc[:,'PROGRAMA AL CUAL SE CARGA'] = actividades['PROGRAMA AL CUAL SE CARGA'].astype(str).replace(\".\", \"\")"
   ]
  },
  {
   "cell_type": "code",
   "execution_count": 41,
   "metadata": {},
   "outputs": [
    {
     "data": {
      "text/plain": [
       "OLGA LUCIA VALLEJO KATTAH            20441\n",
       "MUÑOZ GUERRERO JORGE ANDRES           6940\n",
       "PEÑA GUEVARA ALBA TATIANA             3784\n",
       "RIBERO LUNA LUZ YANETH                1432\n",
       "USA BUSINESS                          1013\n",
       "                                     ...  \n",
       "DESARROLLADOR COMERCIAL TCF GROUP        9\n",
       "BANCO POPULAR                            8\n",
       "BANCO BBVA                               7\n",
       "BANCO DE BOGOTÁ                          4\n",
       "BANCO SERFINANZA                         4\n",
       "Name: NOMBRE_FACILITADOR, Length: 78, dtype: int64"
      ]
     },
     "execution_count": 41,
     "metadata": {},
     "output_type": "execute_result"
    }
   ],
   "source": [
    "#Para confirmar que todas las agendas tengan nombre de facilitador\n",
    "actividades['NOMBRE_FACILITADOR'].value_counts(dropna=False)"
   ]
  },
  {
   "cell_type": "code",
   "execution_count": 42,
   "metadata": {},
   "outputs": [],
   "source": [
    "#Bazzarbog (meses anteriores)\n",
    "bazzarbog = ['A0000028144', 'A0000028145', 'A0000013134', 'A0000015376', 'A0000015712', 'A0000016498', 'A0000016560', 'A0000017522','A0000017523',\n",
    "                'A0000018696', 'A0000018697', 'A0000019314', 'A0000019315', 'A0000021009', 'A0000021010', 'A0000021060','A0000021061', 'A0000023162', \n",
    "                'A0000023163', 'A0000023217', 'A0000023218', 'A0000026992', 'A0000026993', 'A0000028643','A0000028644','A0000029394','A0000029397',\n",
    "                'A0000029693','A0000029694']\n",
    "actividades = actividades[~actividades['codigo_agenda'].isin(bazzarbog)]"
   ]
  },
  {
   "cell_type": "code",
   "execution_count": 43,
   "metadata": {},
   "outputs": [],
   "source": [
    "#Negocia (meses anteriores)\n",
    "negocia = ['A0000028140', 'A0000028141', 'A0000028142', 'A0000028143', 'A0000013135', 'A0000015357', 'A0000015358', 'A0000015359', 'A0000015702', \n",
    "           'A0000016496', 'A0000016557', 'A0000016558', 'A0000016559', 'A0000017524', 'A0000017525', 'A0000017526', 'A0000017527', 'A0000018699', \n",
    "           'A0000018700', 'A0000018702', 'A0000018698', 'A0000019316', 'A0000019317', 'A0000019318', 'A0000019319', 'A0000021003', 'A0000021004', \n",
    "           'A0000021005', 'A0000021008', 'A0000021056', 'A0000021057', 'A0000021058', 'A0000021059', 'A0000023158', 'A0000023159', 'A0000023160', \n",
    "           'A0000023161', 'A0000023213', 'A0000023214', 'A0000023215', 'A0000023216', 'A0000026987', 'A0000026988', 'A0000026989', 'A0000026991',\n",
    "           'A0000029400', 'A0000029402', 'A0000029404', 'A0000029405', 'A0000029695', 'A0000029696', 'A0000029697', 'A0000029698']\n",
    "actividades = actividades[~actividades['codigo_agenda'].isin(negocia)]"
   ]
  },
  {
   "cell_type": "code",
   "execution_count": 44,
   "metadata": {},
   "outputs": [
    {
     "name": "stderr",
     "output_type": "stream",
     "text": [
      "C:\\Users\\1032452285\\AppData\\Local\\Temp\\ipykernel_5928\\1344023353.py:1: FutureWarning: The default value of regex will change from True to False in a future version.\n",
      "  actividades['TIPO_ACTIVIDAD'] = actividades['TIPO_ACTIVIDAD'].str.upper().str.replace(r'[^\\w\\s]', '').str.strip()\n"
     ]
    }
   ],
   "source": [
    "actividades['TIPO_ACTIVIDAD'] = actividades['TIPO_ACTIVIDAD'].str.upper().str.replace(r'[^\\w\\s]', '').str.strip()\n",
    "\n",
    "actividades.loc[actividades['TIPO_ACTIVIDAD'].str.contains('GRUPAL', case=False, regex=True), 'TIPO_ACTIVIDAD'] = 'ASESORIA GRUPAL'\n",
    "actividades.loc[((actividades['NOMBRE_ACTIVIDAD'].str.contains('Agenda de contacto con inversionistas', case=False, regex=True)) | \n",
    "        (actividades['NOMBRE_ACTIVIDAD'].str.contains('Mentoría con Inversión', case=False, regex=True))) &\n",
    "       (actividades['TIPO_ACTIVIDAD'].str.contains('ENCUENTRO FINANCIERO', case=False, regex=True)), 'TIPO_ACTIVIDAD'] = 'AGENDA CON INVERSIONISTAS'\n",
    "actividades.loc[actividades['TIPO_ACTIVIDAD'].str.contains('WEBINAR', case=False, regex=True), 'TIPO_ACTIVIDAD'] = 'EVENTO MASIVO'\n",
    "actividades.loc[actividades['NOMBRE_ACTIVIDAD'].str.contains('Mixer de Innovación', case=False, regex=True), 'TIPO_ACTIVIDAD'] = 'NETWORKING'\n",
    "actividades.loc[actividades['TIPO_ACTIVIDAD'].str.contains('CÁPSULAS', case=False, regex=True), 'TIPO_ACTIVIDAD'] = 'CÁPSULA DE CONOCIMIENTO'\n",
    "actividades.loc[actividades['TIPO_ACTIVIDAD'].str.contains('PLATAFORMA DIGITAL', case=False, regex=True) &\n",
    "       ~actividades['codigo_agenda'].isin(['A0000026992', 'A0000026993', 'A0000026987', 'A0000026988', 'A0000026989', 'A0000026991']),\n",
    "       'TIPO_ACTIVIDAD'] = 'EVENTO DE CONTACTO COMERCIAL'\n",
    "actividades.loc[actividades['codigo_agenda'].isin(['A0000026992', 'A0000026993', 'A0000026987', 'A0000026988', 'A0000026989', 'A0000026991']),\n",
    "       'TIPO_ACTIVIDAD'] = 'PLATAFORMA DIGITAL'\n",
    "actividades.loc[actividades['NOMBRE_ACTIVIDAD'].str.contains('Agenda contacto financiero', case=False, regex=True), 'TIPO_ACTIVIDAD'] = 'AGENDA CON BANCOS'\n",
    "actividades.loc[actividades['NOMBRE_ACTIVIDAD'].str.contains('Demo day', case=False, regex=True), 'TIPO_ACTIVIDAD'] = 'INVESTOR DAY'\n",
    "actividades.loc[actividades['TIPO_ACTIVIDAD'] == 'SESIÓN TALLER', 'TIPO_ACTIVIDAD'] = 'TALLER'"
   ]
  },
  {
   "cell_type": "code",
   "execution_count": 45,
   "metadata": {},
   "outputs": [
    {
     "data": {
      "text/plain": [
       "TALLER                          9108\n",
       "EVENTO MASIVO                   7873\n",
       "EVENTO DE CONTACTO COMERCIAL    6745\n",
       "ASESORIA GRUPAL                 2344\n",
       "CÁPSULA DE CONOCIMIENTO         1493\n",
       "PROGRAMA ESPECIALIZADO          1033\n",
       "CONSULTORÍA ESPECIALIZADA        682\n",
       "AGENDA CON BANCOS                481\n",
       "RUEDA DE NEGOCIOS                190\n",
       "INVESTOR DAY                      99\n",
       "NETWORKING                        98\n",
       "ESCENARIOS DE ARTICULACIÓN        44\n",
       "AGENDA CON INVERSIONISTAS          3\n",
       "Name: TIPO_ACTIVIDAD, dtype: int64"
      ]
     },
     "execution_count": 45,
     "metadata": {},
     "output_type": "execute_result"
    }
   ],
   "source": [
    "## Para confirmar que todos los tipos de actividad estén correctos\n",
    "actividades['TIPO_ACTIVIDAD'].value_counts(dropna=False)"
   ]
  },
  {
   "cell_type": "code",
   "execution_count": 46,
   "metadata": {},
   "outputs": [
    {
     "data": {
      "text/plain": [
       "SOLUCIONES EMPRESARIALES                    15870\n",
       "INNOVACIÓN                                   4407\n",
       "CRECIMIENTO PARA LA FORMALIZACIÓN            3519\n",
       "FORO DE PRESIDENTES                          2525\n",
       "EMPRENDIMIENTO                               2088\n",
       "CONSOLIDACIÓN Y ESCALAMIENTO EMPRESARIAL     1784\n",
       "Name: PROGRAMA AL CUAL SE CARGA, dtype: int64"
      ]
     },
     "execution_count": 46,
     "metadata": {},
     "output_type": "execute_result"
    }
   ],
   "source": [
    "#Para confirmar que todas los nombres del programa esten correctos\n",
    "actividades['PROGRAMA AL CUAL SE CARGA'].value_counts(dropna=False)"
   ]
  },
  {
   "cell_type": "code",
   "execution_count": 47,
   "metadata": {},
   "outputs": [
    {
     "data": {
      "text/plain": [
       "100.00    29472\n",
       "50.00       707\n",
       "14.29        14\n",
       "Name: PORCENTAJE_ASISTENCIA, dtype: int64"
      ]
     },
     "execution_count": 47,
     "metadata": {},
     "output_type": "execute_result"
    }
   ],
   "source": [
    "actividades['PORCENTAJE_ASISTENCIA'].value_counts(dropna=False)"
   ]
  },
  {
   "cell_type": "code",
   "execution_count": 48,
   "metadata": {},
   "outputs": [],
   "source": [
    "actividades = actividades.sort_values(by='Mes')\n",
    "actividades = actividades[actividades['PORCENTAJE_ASISTENCIA'] != 0]"
   ]
  },
  {
   "attachments": {},
   "cell_type": "markdown",
   "metadata": {},
   "source": [
    "**Guardar las bases**"
   ]
  },
  {
   "cell_type": "code",
   "execution_count": 49,
   "metadata": {},
   "outputs": [],
   "source": [
    "actividades.to_excel('C:/Users/1032452285/OneDrive - Camara de Comercio de Bogota/Documentos - Gestión Analítica VFE/Mensuales/5. Cierre de cifras/2. Archivos limpios/Asistencias 2023.xlsx', index = False)\n",
    "actividades.to_excel('C:/Users/1032452285/OneDrive - Camara de Comercio de Bogota/Documentos - Gestión Analítica VFE/Bases/Asistencias/Asistencias 2023.xlsx', index = False)\n",
    "actividades.to_csv('C:/Users/1032452285/OneDrive - Camara de Comercio de Bogota/Documentos - Gestión Analítica VFE/Mensuales/5. Cierre de cifras/4. Bases de datos/Asistencias_2023.csv')"
   ]
  },
  {
   "attachments": {},
   "cell_type": "markdown",
   "metadata": {},
   "source": [
    "# Beneficiarios Internacionalización"
   ]
  },
  {
   "cell_type": "code",
   "execution_count": 50,
   "metadata": {},
   "outputs": [],
   "source": [
    "internacionalizacion=pd.read_excel('C:/Users/1032452285/OneDrive - Camara de Comercio de Bogota/Documentos - Gestión Analítica VFE/Mensuales/2. Planeación/Soporte Internacionalización/Agendas Internacionalización - I Trimestre VFE.xlsx')"
   ]
  },
  {
   "cell_type": "code",
   "execution_count": 52,
   "metadata": {},
   "outputs": [],
   "source": [
    "internacionalizacion=internacionalizacion.drop_duplicates(subset=['Código de agenda'], keep='last')"
   ]
  },
  {
   "cell_type": "code",
   "execution_count": 53,
   "metadata": {},
   "outputs": [],
   "source": [
    "beneficiarios=internacionalizacion.merge(actividades, left_on='Código de agenda', right_on='codigo_agenda', how='outer', indicator = True)"
   ]
  },
  {
   "cell_type": "code",
   "execution_count": 54,
   "metadata": {},
   "outputs": [
    {
     "data": {
      "text/plain": [
       "right_only    28987\n",
       "both           1206\n",
       "left_only         1\n",
       "Name: _merge, dtype: int64"
      ]
     },
     "execution_count": 54,
     "metadata": {},
     "output_type": "execute_result"
    }
   ],
   "source": [
    "beneficiarios['_merge'].value_counts()"
   ]
  },
  {
   "cell_type": "code",
   "execution_count": 55,
   "metadata": {},
   "outputs": [
    {
     "data": {
      "text/plain": [
       "both          1206\n",
       "left_only        0\n",
       "right_only       0\n",
       "Name: _merge, dtype: int64"
      ]
     },
     "execution_count": 55,
     "metadata": {},
     "output_type": "execute_result"
    }
   ],
   "source": [
    "_merge=['both']\n",
    "beneficiarios=beneficiarios.loc[beneficiarios['_merge'].isin(_merge)]\n",
    "beneficiarios['_merge'].value_counts()"
   ]
  },
  {
   "cell_type": "code",
   "execution_count": 56,
   "metadata": {},
   "outputs": [],
   "source": [
    "beneficiarios=beneficiarios.drop_duplicates(subset=['documentousuario'], keep='last')"
   ]
  },
  {
   "cell_type": "code",
   "execution_count": 57,
   "metadata": {},
   "outputs": [],
   "source": [
    "beneficiarios.to_excel('C:/Users/1032452285/OneDrive - Camara de Comercio de Bogota/Documentos - Gestión Analítica VFE/Mensuales/2. Planeación/Soporte Internacionalización/Beneficiarios 2023-I.xlsx', index = False)"
   ]
  }
 ],
 "metadata": {
  "kernelspec": {
   "display_name": "Python 3",
   "language": "python",
   "name": "python3"
  },
  "language_info": {
   "codemirror_mode": {
    "name": "ipython",
    "version": 3
   },
   "file_extension": ".py",
   "mimetype": "text/x-python",
   "name": "python",
   "nbconvert_exporter": "python",
   "pygments_lexer": "ipython3",
   "version": "3.10.5"
  },
  "orig_nbformat": 4,
  "vscode": {
   "interpreter": {
    "hash": "36c1632f94fe9cf00e5224a0413f477e1a0aed8670ac2c19d4c51a88559761fa"
   }
  }
 },
 "nbformat": 4,
 "nbformat_minor": 2
}
